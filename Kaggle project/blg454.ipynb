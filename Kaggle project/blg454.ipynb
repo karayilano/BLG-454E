{
  "nbformat": 4,
  "nbformat_minor": 0,
  "metadata": {
    "colab": {
      "name": "blg454",
      "provenance": [],
      "collapsed_sections": []
    },
    "kernelspec": {
      "name": "python3",
      "display_name": "Python 3"
    }
  },
  "cells": [
    {
      "cell_type": "markdown",
      "metadata": {
        "id": "gP9r0_XZLx8O",
        "colab_type": "text"
      },
      "source": [
        "**Includes**\n"
      ]
    },
    {
      "cell_type": "code",
      "metadata": {
        "id": "ScM6iqU7LqHg",
        "colab_type": "code",
        "colab": {}
      },
      "source": [
        "import pandas as pd\n",
        "import matplotlib.pyplot as plt\n",
        "import numpy as np\n",
        "import random as r\n",
        "from sklearn.model_selection import train_test_split"
      ],
      "execution_count": 0,
      "outputs": []
    },
    {
      "cell_type": "markdown",
      "metadata": {
        "id": "1yTUHcquL2Rk",
        "colab_type": "text"
      },
      "source": [
        "**Importing Data**"
      ]
    },
    {
      "cell_type": "code",
      "metadata": {
        "id": "p16w0cvFL4eT",
        "colab_type": "code",
        "colab": {}
      },
      "source": [
        "X = pd.read_csv(\"train_t0.csv\")\n",
        "Y = pd.read_csv(\"train_t1.csv\")\n",
        "test = pd.read_csv(\"test_t0.csv\")\n",
        "del X['ID'], Y['ID'], test['ID']"
      ],
      "execution_count": 0,
      "outputs": []
    },
    {
      "cell_type": "markdown",
      "metadata": {
        "id": "SHYouoxlh3Ca",
        "colab_type": "text"
      },
      "source": [
        "**Remove Empty Columns**"
      ]
    },
    {
      "cell_type": "code",
      "metadata": {
        "id": "_-6DTrmvh2yT",
        "colab_type": "code",
        "colab": {}
      },
      "source": [
        "X = X.loc[:, (X != 0).any(axis=0)]\n",
        "test = test.loc[:, (test != 0).any(axis=0)]"
      ],
      "execution_count": 0,
      "outputs": []
    },
    {
      "cell_type": "markdown",
      "metadata": {
        "id": "s9iGQBq3nbia",
        "colab_type": "text"
      },
      "source": [
        "**Remove Duplicate Columns**"
      ]
    },
    {
      "cell_type": "code",
      "metadata": {
        "id": "-KDN-lTQnb50",
        "colab_type": "code",
        "colab": {}
      },
      "source": [
        "column_count = len(X.columns)\n",
        "dp_indexes = []\n",
        "for i in range(0, column_count - 1):\n",
        "  a = X.iloc[:, i]\n",
        "  for j in range(i + 1, column_count):\n",
        "    b = X.iloc[:, j]\n",
        "    if np.array_equal(a, b):\n",
        "      dp_indexes.append(j)\n",
        "dp_indexes = list(set(dp_indexes))\n",
        "X.drop(X.columns[dp_indexes], axis=1, inplace=True) \n",
        "test.drop(test.columns[dp_indexes], axis=1, inplace=True) "
      ],
      "execution_count": 0,
      "outputs": []
    },
    {
      "cell_type": "markdown",
      "metadata": {
        "id": "bcgFivqpU4xU",
        "colab_type": "text"
      },
      "source": [
        "**Applying PCA**"
      ]
    },
    {
      "cell_type": "code",
      "metadata": {
        "id": "vR0Bt2mLU1Dz",
        "colab_type": "code",
        "colab": {}
      },
      "source": [
        "from sklearn.decomposition import PCA\n",
        "pca = PCA(n_components = 11)\n",
        "\n",
        "X = pca.fit_transform(X)\n",
        "test = pca.transform(test)\n",
        "\n",
        "X = pd.DataFrame.from_records(X)\n",
        "test = pd.DataFrame.from_records(test)"
      ],
      "execution_count": 0,
      "outputs": []
    },
    {
      "cell_type": "markdown",
      "metadata": {
        "id": "ioSqB3OOWTY-",
        "colab_type": "text"
      },
      "source": [
        "**5-Fold Cross Validation Using SVR**"
      ]
    },
    {
      "cell_type": "code",
      "metadata": {
        "id": "nx85JP0fWa_F",
        "colab_type": "code",
        "cellView": "code",
        "colab": {}
      },
      "source": [
        "import random as r\n",
        "r.seed(1)\n",
        "\n",
        "actual = []\n",
        "predicted = []\n",
        "\n",
        "from sklearn.svm import SVR\n",
        "regressor = SVR(kernel='rbf', C=0.032, gamma='scale', epsilon=.022, tol=0.001)\n",
        "\n",
        "from sklearn.model_selection import KFold\n",
        "kf = KFold(n_splits=10, random_state=r.randint(0, 2147483648), shuffle=True)\n",
        "for train_index, test_index in kf.split(X):\n",
        "  X_train, X_test = X.iloc[train_index], X.iloc[test_index]\n",
        "  Y_train, Y_test = Y.iloc[train_index], Y.iloc[test_index]\n",
        "\n",
        "  data = {} \n",
        "  dataframe = pd.DataFrame(data) \n",
        "  for i in range(0,595):\n",
        "    regressor.fit(X_train, Y_train.iloc[:, i])\n",
        "    pred = regressor.predict(X_test)\n",
        "    dataframe.insert(i, i, pred, True)\n",
        "\n",
        "  predicted.extend(dataframe.values)\n",
        "  actual.extend(Y_test.values)"
      ],
      "execution_count": 0,
      "outputs": []
    },
    {
      "cell_type": "markdown",
      "metadata": {
        "id": "VDVTDEbgO5mW",
        "colab_type": "text"
      },
      "source": [
        "**Displaying MSE**"
      ]
    },
    {
      "cell_type": "code",
      "metadata": {
        "id": "mwO34CFcO8TY",
        "colab_type": "code",
        "outputId": "6bc32cd5-5626-4120-e2cc-c98fe0c19818",
        "colab": {
          "base_uri": "https://localhost:8080/",
          "height": 34
        }
      },
      "source": [
        "actualDF = pd.DataFrame.from_records(actual)\n",
        "predDF = pd.DataFrame.from_records(predicted)\n",
        "\n",
        "from sklearn.metrics import mean_squared_error as mse\n",
        "actual = actualDF.to_numpy().flatten()\n",
        "predicted = predDF.to_numpy().flatten()\n",
        "mse(predicted,actual)"
      ],
      "execution_count": 0,
      "outputs": [
        {
          "output_type": "execute_result",
          "data": {
            "text/plain": [
              "0.004084018606314645"
            ]
          },
          "metadata": {
            "tags": []
          },
          "execution_count": 14
        }
      ]
    }
  ]
}